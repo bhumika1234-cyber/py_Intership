{
 "cells": [
  {
   "cell_type": "code",
   "execution_count": 1,
   "id": "76eb2ff8-88bb-4dd5-af9d-316d2c3c4888",
   "metadata": {},
   "outputs": [
    {
     "name": "stdout",
     "output_type": "stream",
     "text": [
      "✅ Scraped 57 headlines and saved to 'headlines.txt'\n"
     ]
    }
   ],
   "source": [
    "import requests\n",
    "from bs4 import BeautifulSoup\n",
    "\n",
    "URL = \"https://www.bbc.com/news\"\n",
    "\n",
    "response = requests.get(URL)\n",
    "if response.status_code != 200:\n",
    "    print(f\"Failed to retrieve page. Status code: {response.status_code}\")\n",
    "    exit()\n",
    "\n",
    "html_content = response.text\n",
    "\n",
    "soup = BeautifulSoup(html_content, 'html.parser')\n",
    "\n",
    "headlines = []\n",
    "for tag in soup.find_all(['h2', 'h3']):\n",
    "    title = tag.get_text(strip=True)\n",
    "    if title and len(title) > 20:  \n",
    "        headlines.append(title)\n",
    "\n",
    "with open(\"headlines.txt\", \"w\", encoding=\"utf-8\") as file:\n",
    "    for i, headline in enumerate(headlines, start=1):\n",
    "        file.write(f\"{i}. {headline}\\n\")\n",
    "\n",
    "print(f\"✅ Scraped {len(headlines)} headlines and saved to 'headlines.txt'\")"
   ]
  },
  {
   "cell_type": "code",
   "execution_count": null,
   "id": "be8a088a-b5fb-4a3f-b5bf-be41744cbe57",
   "metadata": {},
   "outputs": [],
   "source": []
  }
 ],
 "metadata": {
  "kernelspec": {
   "display_name": "Python 3 (ipykernel)",
   "language": "python",
   "name": "python3"
  },
  "language_info": {
   "codemirror_mode": {
    "name": "ipython",
    "version": 3
   },
   "file_extension": ".py",
   "mimetype": "text/x-python",
   "name": "python",
   "nbconvert_exporter": "python",
   "pygments_lexer": "ipython3",
   "version": "3.13.5"
  }
 },
 "nbformat": 4,
 "nbformat_minor": 5
}
